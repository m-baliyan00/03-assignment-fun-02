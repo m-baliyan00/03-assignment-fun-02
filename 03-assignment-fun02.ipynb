{
 "cells": [
  {
   "cell_type": "raw",
   "id": "ad36723b-467a-443a-ab4d-d34937667a3b",
   "metadata": {},
   "source": [
    "Q1. Create a python program to sort the given list of tuples based on integer value using a\n",
    "lambda function.\n",
    "[('Sachin Tendulkar', 34357), ('Ricky Ponting', 27483), ('Jack Kallis', 25534), ('Virat Kohli', 24936)]"
   ]
  },
  {
   "cell_type": "code",
   "execution_count": 2,
   "id": "ed6e015a-6b99-41ec-b6ee-dbdd1321337e",
   "metadata": {},
   "outputs": [
    {
     "data": {
      "text/plain": [
       "[[('Virat Kohli', 24936),\n",
       "  ('Jack Kallis', 25534),\n",
       "  ('Ricky Ponting', 27483),\n",
       "  ('Sachin Tendulkar', 34357)],\n",
       " [('Virat Kohli', 24936),\n",
       "  ('Jack Kallis', 25534),\n",
       "  ('Ricky Ponting', 27483),\n",
       "  ('Sachin Tendulkar', 34357)],\n",
       " [('Virat Kohli', 24936),\n",
       "  ('Jack Kallis', 25534),\n",
       "  ('Ricky Ponting', 27483),\n",
       "  ('Sachin Tendulkar', 34357)],\n",
       " [('Virat Kohli', 24936),\n",
       "  ('Jack Kallis', 25534),\n",
       "  ('Ricky Ponting', 27483),\n",
       "  ('Sachin Tendulkar', 34357)]]"
      ]
     },
     "execution_count": 2,
     "metadata": {},
     "output_type": "execute_result"
    }
   ],
   "source": [
    "l = [('Sachin Tendulkar', 34357), ('Ricky Ponting', 27483), ('Jack Kallis', 25534), ('Virat Kohli', 24936)]\n",
    "def middle(n):\n",
    "    return n[1]\n",
    "def sort(list_tuple):  \n",
    "    return sorted(list_tuple, key = middle)\n",
    "a = lambda l: [sort(l) for i in l ]\n",
    "a(l)\n"
   ]
  },
  {
   "cell_type": "code",
   "execution_count": 30,
   "id": "8734ccc6-96a8-468a-ade0-afd4e762af53",
   "metadata": {},
   "outputs": [
    {
     "name": "stdout",
     "output_type": "stream",
     "text": [
      "Sorted list :\n",
      "[('Virat Kohli', 24936), ('Jack Kallis', 25534), ('Ricky Ponting', 27483), ('Sachin Tendulkar', 34357)]\n"
     ]
    }
   ],
   "source": [
    "def middle(n):  \n",
    "    return n[1]    \n",
    "         \n",
    "def sort(l):  \n",
    "    return sorted(l, key = middle)  \n",
    "        \n",
    "l = [('Sachin Tendulkar', 34357), ('Ricky Ponting', 27483), ('Jack Kallis', 25534), ('Virat Kohli', 24936)] \n",
    "  \n",
    "print(\"Sorted list :\"),  \n",
    "print(sort(l))  "
   ]
  },
  {
   "cell_type": "code",
   "execution_count": null,
   "id": "1b6f25a8-5c19-4c75-a649-de61d61f83ed",
   "metadata": {},
   "outputs": [],
   "source": [
    "def middle(n):  \n",
    "    return n[1]    \n",
    "     \n",
    "# function to sort the tuple     \n",
    "def sort(list_of_tuples):  \n",
    "    return sorted(list_of_tuples, key = middle)  \n",
    "     \n",
    "# driver code    \n",
    "list_ = [(34, 21, 56), (24, 12, 32), (42, 34, 42), (27, 11, 32)]  \n",
    "  \n",
    "print(\"Sorted list of Tuples:\"),  \n",
    "print(sort(list_))  "
   ]
  },
  {
   "cell_type": "raw",
   "id": "33cc389d-930c-4ce3-94a2-476c10c8c4bb",
   "metadata": {},
   "source": [
    "Q2. Write a Python Program to find the squares of all the numbers in the given list of integers using\n",
    "lambda and map functions.\n",
    "[1, 2, 3, 4, 5, 6, 7, 8, 9, 10]"
   ]
  },
  {
   "cell_type": "code",
   "execution_count": 14,
   "id": "58a318b6-d8cd-452c-90fd-9efa36fa7d8f",
   "metadata": {},
   "outputs": [
    {
     "name": "stdout",
     "output_type": "stream",
     "text": [
      "[1, 4, 9, 16, 25, 36, 49, 64, 81, 100]\n"
     ]
    }
   ],
   "source": [
    "l = [1, 2, 3, 4, 5, 6, 7, 8, 9, 10]\n",
    "l1 = []\n",
    "for i in l:\n",
    "    i = i**2\n",
    "    l1.append(i)\n",
    "print(l1)"
   ]
  },
  {
   "cell_type": "raw",
   "id": "74bc90bc-3479-447a-a917-3f25f977374a",
   "metadata": {},
   "source": [
    "Q3. Write a python program to convert the given list of integers into a tuple of strings. Use map and\n",
    "lambda functions\n",
    "Given String: [1, 2, 3, 4, 5, 6, 7, 8, 9, 10]\n",
    "Expected output: ('1', '2', '3', '4', '5', '6', '7', '8', '9', '10')"
   ]
  },
  {
   "cell_type": "code",
   "execution_count": 23,
   "id": "a0b997d9-55d7-49ba-9da4-3124762d8fc3",
   "metadata": {},
   "outputs": [
    {
     "name": "stdout",
     "output_type": "stream",
     "text": [
      "('1', '2', '3', '4', '5', '6', '7', '8', '9', '10')\n"
     ]
    }
   ],
   "source": [
    "l = [1, 2, 3, 4, 5, 6, 7, 8, 9, 10]\n",
    "l1 =[]\n",
    "for i in l:\n",
    "    i = str(i)\n",
    "    l1.append(i)\n",
    "def conv(list):\n",
    "    return tuple(list)\n",
    "print(conv(l1))"
   ]
  },
  {
   "cell_type": "raw",
   "id": "997d6b15-2ed8-4afb-ab8b-255c274bc0a7",
   "metadata": {},
   "source": [
    "Q4. Write a python program using reduce function to compute the product of a list containing numbers\n",
    "from 1 to 25."
   ]
  },
  {
   "cell_type": "code",
   "execution_count": 8,
   "id": "13a89251-12eb-43ac-acd5-1bb2c1703905",
   "metadata": {},
   "outputs": [],
   "source": [
    "l = list(range(0,26))"
   ]
  },
  {
   "cell_type": "code",
   "execution_count": 9,
   "id": "734de217-b138-4b1e-9a86-98a8355a23a5",
   "metadata": {},
   "outputs": [
    {
     "name": "stdout",
     "output_type": "stream",
     "text": [
      "325\n"
     ]
    }
   ],
   "source": [
    "import functools\n",
    "a = functools.reduce (lambda a, b: a+b, l)\n",
    "print(a)"
   ]
  },
  {
   "cell_type": "raw",
   "id": "9f2231f0-d646-47fa-87dd-95dc3516be36",
   "metadata": {},
   "source": [
    "Q5. Write a python program to filter the numbers in a given list that are divisible by 2 and 3 using the\n",
    "filter function.\n",
    "[2, 3, 6, 9, 27, 60, 90, 120, 55, 46]"
   ]
  },
  {
   "cell_type": "code",
   "execution_count": 7,
   "id": "4a1a8efd-07b2-473e-af63-2bf75d0dc6c8",
   "metadata": {},
   "outputs": [
    {
     "name": "stdout",
     "output_type": "stream",
     "text": [
      "2\n",
      "3\n",
      "6\n",
      "9\n",
      "27\n",
      "60\n",
      "90\n",
      "120\n",
      "46\n"
     ]
    },
    {
     "data": {
      "text/plain": [
       "[None, None, None, None, None, None, None, None, None]"
      ]
     },
     "execution_count": 7,
     "metadata": {},
     "output_type": "execute_result"
    }
   ],
   "source": [
    "ll = [2, 3, 6, 9, 27, 60, 90, 120, 55, 46]\n",
    "aa = lambda ll: [print(x) for x in ll if x % 2 ==0 or x % 3 ==0] \n",
    "aa(ll)"
   ]
  },
  {
   "cell_type": "raw",
   "id": "cabc602d-2281-4fb0-9859-aa90297cd886",
   "metadata": {},
   "source": [
    "Q6. Write a python program to find palindromes in the given list of strings using lambda and filter\n",
    "function.\n",
    "['python', 'php', 'aba', 'radar', 'level']"
   ]
  },
  {
   "cell_type": "code",
   "execution_count": 91,
   "id": "02f3b689-aa78-42bd-a684-ec9a521a7081",
   "metadata": {},
   "outputs": [
    {
     "name": "stdout",
     "output_type": "stream",
     "text": [
      "php  is a palindromes\n",
      "aba  is a palindromes\n",
      "radar  is a palindromes\n",
      "level  is a palindromes\n"
     ]
    },
    {
     "data": {
      "text/plain": [
       "[None, None, None, None]"
      ]
     },
     "execution_count": 91,
     "metadata": {},
     "output_type": "execute_result"
    }
   ],
   "source": [
    "l = ['python', 'php', 'aba', 'radar', 'level', \"mohit\"]\n",
    "d = lambda l: [print(x, \" is a palindromes\") for x in l if x ==x[::-1]]\n",
    "d(l)"
   ]
  }
 ],
 "metadata": {
  "kernelspec": {
   "display_name": "Python 3 (ipykernel)",
   "language": "python",
   "name": "python3"
  },
  "language_info": {
   "codemirror_mode": {
    "name": "ipython",
    "version": 3
   },
   "file_extension": ".py",
   "mimetype": "text/x-python",
   "name": "python",
   "nbconvert_exporter": "python",
   "pygments_lexer": "ipython3",
   "version": "3.10.8"
  }
 },
 "nbformat": 4,
 "nbformat_minor": 5
}
